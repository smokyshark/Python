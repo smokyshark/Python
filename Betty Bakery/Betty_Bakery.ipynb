{
 "cells": [
  {
   "cell_type": "code",
   "execution_count": 20,
   "id": "5e1bff56-7530-4e31-a474-7178df2e652d",
   "metadata": {},
   "outputs": [
    {
     "name": "stdout",
     "output_type": "stream",
     "text": [
      "[[2.    0.75  2.    1.    0.5  ]\n",
      " [1.    0.125 1.    1.    0.125]\n",
      " [2.75  1.5   1.    0.    1.   ]\n",
      " [4.    0.5   2.    2.    0.5  ]]\n"
     ]
    }
   ],
   "source": [
    "import numpy as np\n",
    "cupcakes = np.array([2, 0.75, 2, 1, 0.5])\n",
    "recipes = np.genfromtxt('recipes.csv', delimiter=',')\n",
    "#print(cupcakes)\n",
    "print(recipes)\n",
    "#table     Cups      Cups            Cups     Cups\n",
    "#          of Flour\t of Sugar  Eggs  of Milk  of Butter\n",
    "#Cupcakes\t…\t        …\t    …\t   …\t    …\n",
    "#Pancake\t…       \t…\t    …\t   …\t    …\n",
    "#Cookie\t    …\t        …\t    …\t   …\t    …\n",
    "#Bread      …\t        …\t    …\t   …        …"
   ]
  },
  {
   "cell_type": "code",
   "execution_count": 30,
   "id": "a48f7104-a7da-4af1-beb1-cbb5557b6d99",
   "metadata": {},
   "outputs": [
    {
     "name": "stdout",
     "output_type": "stream",
     "text": [
      "Eggs: [2. 1. 1. 2.]\n"
     ]
    }
   ],
   "source": [
    "#creating array \n",
    "#new_array = array[row, column]\n",
    "#new_array = array[begin_row : end_row, begin_column : end_column]\n",
    "\n",
    "eggs = recipes[:,2]\n",
    "print('Eggs:', eggs)"
   ]
  },
  {
   "cell_type": "code",
   "execution_count": 40,
   "id": "a0db02a6-531f-483d-9568-d70af38383fd",
   "metadata": {},
   "outputs": [
    {
     "name": "stdout",
     "output_type": "stream",
     "text": [
      "[[1.    0.125 1.    1.    0.125]\n",
      " [2.75  1.5   1.    0.    1.   ]]\n"
     ]
    }
   ],
   "source": [
    "#one_egg = eggs == 1\n",
    "one_egg = recipes[(eggs == 1)]\n",
    "print(one_egg)"
   ]
  },
  {
   "cell_type": "code",
   "execution_count": 26,
   "id": "523e3a8c-3029-406c-a7ad-c6343016f372",
   "metadata": {},
   "outputs": [
    {
     "name": "stdout",
     "output_type": "stream",
     "text": [
      "[2.75 1.5  1.   0.   1.  ]\n"
     ]
    }
   ],
   "source": [
    "#making \n",
    "cookies = recipes[2,:]\n",
    "print(cookies)"
   ]
  },
  {
   "cell_type": "code",
   "execution_count": 32,
   "id": "9e6b0ee9-9bfb-4f46-96e6-2237a97a2f3c",
   "metadata": {},
   "outputs": [
    {
     "name": "stdout",
     "output_type": "stream",
     "text": [
      "[4.  1.5 4.  2.  1. ]\n"
     ]
    }
   ],
   "source": [
    "#making grocery list for double batch\n",
    "double_batch = cupcakes * 2\n",
    "print(double_batch)"
   ]
  },
  {
   "cell_type": "code",
   "execution_count": 34,
   "id": "fc2c27d3-e6f3-4a83-9f3b-6224a9eedeab",
   "metadata": {},
   "outputs": [
    {
     "name": "stdout",
     "output_type": "stream",
     "text": [
      "[6.75 3.   5.   2.   2.  ]\n"
     ]
    }
   ],
   "source": [
    "#making grocery list\n",
    "grocery_list = double_batch + cookies\n",
    "print(grocery_list)"
   ]
  },
  {
   "cell_type": "code",
   "execution_count": null,
   "id": "4da4447b-0b92-47cd-8317-d3211a5db0d2",
   "metadata": {},
   "outputs": [],
   "source": []
  }
 ],
 "metadata": {
  "kernelspec": {
   "display_name": "Python 3 (ipykernel)",
   "language": "python",
   "name": "python3"
  },
  "language_info": {
   "codemirror_mode": {
    "name": "ipython",
    "version": 3
   },
   "file_extension": ".py",
   "mimetype": "text/x-python",
   "name": "python",
   "nbconvert_exporter": "python",
   "pygments_lexer": "ipython3",
   "version": "3.11.7"
  }
 },
 "nbformat": 4,
 "nbformat_minor": 5
}
