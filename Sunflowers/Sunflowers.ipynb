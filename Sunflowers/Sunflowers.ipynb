{
 "cells": [
  {
   "cell_type": "code",
   "execution_count": null,
   "id": "d8643c4b-7d33-4512-842d-56a35eeee66b",
   "metadata": {},
   "outputs": [],
   "source": [
    "import numpy as np\n",
    "from matplotlib import pyplot as plt\n",
    "\n",
    "sunflowers = np.genfromtxt('sunflower_heights.csv',\n",
    "                           delimiter=',')\n",
    "\n",
    "# Calculate mean and std of sunflowers here:\n",
    "sunflowers_mean = np.mean(sunflowers)\n",
    "sunflowers_std = np.std(sunflowers)\n",
    "\n",
    "# Calculate sunflowers_normal here:\n",
    "sunflowers_normal = np.random.normal(\n",
    "  loc = sunflowers_mean,\n",
    "  scale = sunflowers_std,\n",
    "  size = 5000\n",
    ")\n",
    "\n",
    "plt.hist(sunflowers,\n",
    "         range=(11, 15), histtype='step', linewidth=2,\n",
    "        label='observed', density=True)\n",
    "plt.hist(sunflowers_normal,\n",
    "         range=(11, 15), histtype='step', linewidth=2,\n",
    "        label='normal', density=True)\n",
    "plt.legend()\n",
    "plt.show()\n"
   ]
  },
  {
   "cell_type": "code",
   "execution_count": 5,
   "id": "01a55ece-43e0-4a6b-9c73-9861b05d5565",
   "metadata": {},
   "outputs": [
    {
     "name": "stdout",
     "output_type": "stream",
     "text": [
      "0.4704\n"
     ]
    }
   ],
   "source": [
    "# Calculate probabilities here:\n",
    "experiments = np.random.binomial(200, 0.1, size=5000)\n",
    "prob = np.mean(experiments < 20)\n",
    "print(prob)"
   ]
  },
  {
   "cell_type": "code",
   "execution_count": null,
   "id": "10fe3d90-3759-4681-b205-e5961a05ed3b",
   "metadata": {},
   "outputs": [],
   "source": []
  }
 ],
 "metadata": {
  "kernelspec": {
   "display_name": "Python 3 (ipykernel)",
   "language": "python",
   "name": "python3"
  },
  "language_info": {
   "codemirror_mode": {
    "name": "ipython",
    "version": 3
   },
   "file_extension": ".py",
   "mimetype": "text/x-python",
   "name": "python",
   "nbconvert_exporter": "python",
   "pygments_lexer": "ipython3",
   "version": "3.11.7"
  }
 },
 "nbformat": 4,
 "nbformat_minor": 5
}
